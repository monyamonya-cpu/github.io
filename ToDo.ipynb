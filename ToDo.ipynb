{
 "cells": [
  {
   "cell_type": "code",
   "execution_count": 2,
   "id": "4e81158b-1be0-42f8-94e2-fe817ef5eece",
   "metadata": {},
   "outputs": [
    {
     "name": "stderr",
     "output_type": "stream",
     "text": [
      "Exception in Tkinter callback\n",
      "Traceback (most recent call last):\n",
      "  File \"C:\\ProgramData\\anaconda3\\Lib\\tkinter\\__init__.py\", line 1968, in __call__\n",
      "    return self.func(*args)\n",
      "           ^^^^^^^^^^^^^^^^\n",
      "  File \"C:\\Users\\雲丹\\AppData\\Local\\Temp\\ipykernel_18704\\2453679097.py\", line 9, in save_to_csv\n",
      "    with open(\"todo.csv\",\"a\",newfile='', encoding=\"utf-8\")  as csvfile:\n",
      "         ^^^^^^^^^^^^^^^^^^^^^^^^^^^^^^^^^^^^^^^^^^^^^^^^^\n",
      "  File \"C:\\ProgramData\\anaconda3\\Lib\\site-packages\\IPython\\core\\interactiveshell.py\", line 324, in _modified_open\n",
      "    return io_open(file, *args, **kwargs)\n",
      "           ^^^^^^^^^^^^^^^^^^^^^^^^^^^^^^\n",
      "TypeError: 'newfile' is an invalid keyword argument for open()\n",
      "Exception in Tkinter callback\n",
      "Traceback (most recent call last):\n",
      "  File \"C:\\ProgramData\\anaconda3\\Lib\\tkinter\\__init__.py\", line 1968, in __call__\n",
      "    return self.func(*args)\n",
      "           ^^^^^^^^^^^^^^^^\n",
      "  File \"C:\\Users\\雲丹\\AppData\\Local\\Temp\\ipykernel_18704\\2453679097.py\", line 9, in save_to_csv\n",
      "    with open(\"todo.csv\",\"a\",newfile='', encoding=\"utf-8\")  as csvfile:\n",
      "         ^^^^^^^^^^^^^^^^^^^^^^^^^^^^^^^^^^^^^^^^^^^^^^^^^\n",
      "  File \"C:\\ProgramData\\anaconda3\\Lib\\site-packages\\IPython\\core\\interactiveshell.py\", line 324, in _modified_open\n",
      "    return io_open(file, *args, **kwargs)\n",
      "           ^^^^^^^^^^^^^^^^^^^^^^^^^^^^^^\n",
      "TypeError: 'newfile' is an invalid keyword argument for open()\n",
      "Exception in Tkinter callback\n",
      "Traceback (most recent call last):\n",
      "  File \"C:\\ProgramData\\anaconda3\\Lib\\tkinter\\__init__.py\", line 1968, in __call__\n",
      "    return self.func(*args)\n",
      "           ^^^^^^^^^^^^^^^^\n",
      "  File \"C:\\Users\\雲丹\\AppData\\Local\\Temp\\ipykernel_18704\\2453679097.py\", line 9, in save_to_csv\n",
      "    with open(\"todo.csv\",\"a\",newfile='', encoding=\"utf-8\")  as csvfile:\n",
      "         ^^^^^^^^^^^^^^^^^^^^^^^^^^^^^^^^^^^^^^^^^^^^^^^^^\n",
      "  File \"C:\\ProgramData\\anaconda3\\Lib\\site-packages\\IPython\\core\\interactiveshell.py\", line 324, in _modified_open\n",
      "    return io_open(file, *args, **kwargs)\n",
      "           ^^^^^^^^^^^^^^^^^^^^^^^^^^^^^^\n",
      "TypeError: 'newfile' is an invalid keyword argument for open()\n",
      "Exception in Tkinter callback\n",
      "Traceback (most recent call last):\n",
      "  File \"C:\\ProgramData\\anaconda3\\Lib\\tkinter\\__init__.py\", line 1968, in __call__\n",
      "    return self.func(*args)\n",
      "           ^^^^^^^^^^^^^^^^\n",
      "  File \"C:\\Users\\雲丹\\AppData\\Local\\Temp\\ipykernel_18704\\2453679097.py\", line 9, in save_to_csv\n",
      "    with open(\"todo.csv\",\"a\",newfile='', encoding=\"utf-8\")  as csvfile:\n",
      "         ^^^^^^^^^^^^^^^^^^^^^^^^^^^^^^^^^^^^^^^^^^^^^^^^^\n",
      "  File \"C:\\ProgramData\\anaconda3\\Lib\\site-packages\\IPython\\core\\interactiveshell.py\", line 324, in _modified_open\n",
      "    return io_open(file, *args, **kwargs)\n",
      "           ^^^^^^^^^^^^^^^^^^^^^^^^^^^^^^\n",
      "TypeError: 'newfile' is an invalid keyword argument for open()\n"
     ]
    }
   ],
   "source": [
    "#todo_gui.py\n",
    "\n",
    "from tkinter import*\n",
    "import csv\n",
    "\n",
    "def save_to_csv():\n",
    "    task = entry_task.get()\n",
    "    if task:\n",
    "        with open(\"todo.csv\",\"a\",newfile='', encoding=\"utf-8\")  as csvfile:\n",
    "            writer = csv.writer(csvfile)\n",
    "            writer.writerow([task])\n",
    "        entry_task.delete(0,END)\n",
    "    \n",
    "root = Tk()\n",
    "root.title(\"ToDo 登録アプリ\")\n",
    "\n",
    "Label(root, text=\"やること\").grid(row=0, column=0)\n",
    "entry_task = Entry(root)\n",
    "entry_task.grid(row=0, column=1)\n",
    "                                                             \n",
    "Button(root, text=\"登録\", command=save_to_csv).grid(row=1, column=0, columnspan=2)\n",
    "\n",
    "root.mainloop()"
   ]
  },
  {
   "cell_type": "code",
   "execution_count": null,
   "id": "54589e1a-dcd0-4455-81d1-8cebb1d70c7c",
   "metadata": {},
   "outputs": [],
   "source": []
  }
 ],
 "metadata": {
  "kernelspec": {
   "display_name": "Python 3 (ipykernel)",
   "language": "python",
   "name": "python3"
  },
  "language_info": {
   "codemirror_mode": {
    "name": "ipython",
    "version": 3
   },
   "file_extension": ".py",
   "mimetype": "text/x-python",
   "name": "python",
   "nbconvert_exporter": "python",
   "pygments_lexer": "ipython3",
   "version": "3.12.7"
  }
 },
 "nbformat": 4,
 "nbformat_minor": 5
}
